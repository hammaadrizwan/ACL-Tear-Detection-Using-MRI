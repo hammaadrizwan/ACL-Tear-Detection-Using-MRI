{
 "cells": [
  {
   "cell_type": "markdown",
   "metadata": {},
   "source": [
    "EXPLORE DATA"
   ]
  },
  {
   "cell_type": "code",
   "execution_count": null,
   "metadata": {},
   "outputs": [],
   "source": [
    "from IPython.core.display import display,HTML\n",
    "display(HTML('<style>.prompt{width: 0px; min-width: 0px; visibility: collapse}</style>'))\n",
    "\n",
    "%matplotlib inline\n",
    "%load_ext autoreload\n",
    "%autoreload 2\n",
    "%config Completer.use_jedi=False\n",
    "\n",
    "import numpy as np\n",
    "import pandas as pd\n",
    "import matplotlib.pyplot as plt\n",
    "from ipywidgets import interact, Dropdown, IntSlider\n",
    "from tqdm import tqdm_notebook\n",
    "\n",
    "\n",
    "train_acl = pd.read_csv('../data/train-acl.csv', header=None,\n",
    "                       names=['Case', 'Abnormal'], \n",
    "                       dtype={'Case': str, 'Abnormal': np.int64})\n",
    "\n",
    "train_acl.head()"
   ]
  },
  {
   "cell_type": "code",
   "execution_count": null,
   "metadata": {},
   "outputs": [],
   "source": [
    "train_acl.Abnormal.value_counts(normalize=True)"
   ]
  },
  {
   "cell_type": "code",
   "execution_count": null,
   "metadata": {},
   "outputs": [],
   "source": [
    "case = '0000'\n",
    "\n",
    "mri_coronal = np.load('../data/train/coronal/0000.npy')\n",
    "mri_axial = np.load('../data/train/axial/0000.npy')\n",
    "mri_sagittal = np.load('../data/train/sagittal/0000.npy')\n",
    "\n",
    "print(f'MRI scan on coronal plane: {mri_coronal.shape}')\n",
    "print(f'MRI scan on axial plane: {mri_axial.shape}')\n",
    "print(f'MRI scan on sagittal plane: {mri_sagittal.shape}')"
   ]
  },
  {
   "cell_type": "code",
   "execution_count": null,
   "metadata": {},
   "outputs": [],
   "source": [
    "fig, (ax1, ax2, ax3) = plt.subplots(1, 3, figsize=(15, 5))\n",
    "\n",
    "ax1.imshow(mri_coronal[0, :, :], 'gray');\n",
    "ax1.set_title('Case 0 | Slice 1 | Sagittal');\n",
    "\n",
    "ax2.imshow(mri_axial[0, :, :], 'gray');\n",
    "ax2.set_title('Case 0 | Slice 1 | Axial');\n",
    "\n",
    "ax3.imshow(mri_sagittal[0, :, :], 'gray');\n",
    "ax3.set_title('Case 0 | Slice 1 | Coronal');"
   ]
  },
  {
   "cell_type": "markdown",
   "metadata": {},
   "source": [
    "LOADING DATA"
   ]
  },
  {
   "cell_type": "code",
   "execution_count": null,
   "metadata": {},
   "outputs": [],
   "source": [
    "train_path = '../data/train/'\n",
    "\n",
    "def load_one_stack(case, data_path=train_path, plane='coronal'):\n",
    "    fpath = '{}/{}/{}.npy'.format(data_path, plane, case)\n",
    "    return np.load(fpath)\n",
    "\n",
    "def load_stacks(case, data_path=train_path):\n",
    "    x = {}\n",
    "    planes = ['coronal', 'sagittal', 'axial']\n",
    "    for i, plane in enumerate(planes):\n",
    "        x[plane] = load_one_stack(case, plane=plane)\n",
    "    return x\n",
    "\n",
    "def load_cases(train=True, n=None):\n",
    "    assert (type(n) == int) and (n < 1250)\n",
    "    if train:\n",
    "        case_list = pd.read_csv('../data/train-acl.csv', names=['case', 'label'], header=None,\n",
    "                               dtype={'case': str, 'label': np.int64})['case'].tolist()        \n",
    "    else:\n",
    "        case_list = pd.read_csv('../data/valid-acl.csv', names=['case', 'label'], header=None,\n",
    "                               dtype={'case': str, 'label': np.int64})['case'].tolist()        \n",
    "    cases = {}\n",
    "    \n",
    "    if n is not None:\n",
    "        case_list = case_list[:n]\n",
    "        \n",
    "    for case in tqdm_notebook(case_list, leave=False):\n",
    "        x = load_stacks(case)\n",
    "        cases[case] = x\n",
    "    return cases\n",
    "\n",
    "cases = load_cases(n=100)\n",
    "\n",
    "print(cases['0000']['axial'].shape)\n",
    "print(cases['0000']['coronal'].shape)\n",
    "print(cases['0000']['sagittal'].shape)"
   ]
  },
  {
   "cell_type": "markdown",
   "metadata": {},
   "source": [
    "INITIALISING Widgets"
   ]
  },
  {
   "cell_type": "code",
   "execution_count": null,
   "metadata": {},
   "outputs": [],
   "source": [
    "class KneePlot():\n",
    "    def __init__(self, cases, figsize=(15, 5)):\n",
    "        self.cases = cases\n",
    "        \n",
    "        self.planes = {case: ['coronal', 'sagittal', 'axial'] for case in self.cases}\n",
    "    \n",
    "        self.slice_nums = {}\n",
    "        for case in self.cases:\n",
    "            self.slice_nums[case] = {}\n",
    "            for plane in ['coronal', 'sagittal', 'axial']:\n",
    "                self.slice_nums[case][plane] = self.cases[case][plane].shape[0]\n",
    "\n",
    "        self.figsize = figsize\n",
    "        \n",
    "    def _plot_slices(self, case, im_slice_coronal, im_slice_sagittal, im_slice_axial):\n",
    "        fig, (ax1, ax2, ax3) = plt.subplots(1, 3, figsize=self.figsize)\n",
    "        \n",
    "        ax1.imshow(self.cases[case]['coronal'][im_slice_coronal, :, :], 'gray')\n",
    "        ax1.set_title(f'MRI slice {im_slice_coronal} on coronal plane')\n",
    "        \n",
    "        ax2.imshow(self.cases[case]['sagittal'][im_slice_sagittal, :, :], 'gray')\n",
    "        ax2.set_title(f'MRI slice {im_slice_sagittal} on sagittal plane')\n",
    "        \n",
    "        ax3.imshow(self.cases[case]['axial'][im_slice_axial, :, :], 'gray')\n",
    "        ax3.set_title(f'MRI slice {im_slice_axial} on axial plane')\n",
    "        \n",
    "        plt.show()\n",
    "    \n",
    "    def draw(self):\n",
    "        case_widget = Dropdown(options=list(self.cases.keys()),\n",
    "                               description='Case'\n",
    "                              \n",
    "                              )\n",
    "        case_init = list(self.cases.keys())[0]\n",
    "\n",
    "\n",
    "        slice_init_coronal = self.slice_nums[case_init]['coronal'] - 1        \n",
    "        slices_widget_coronal = IntSlider(min=0, \n",
    "                                          max=slice_init_coronal, \n",
    "                                          value=slice_init_coronal // 2, \n",
    "                                          description='Coronal')\n",
    "        \n",
    "        slice_init_sagittal = self.slice_nums[case_init]['sagittal'] - 1        \n",
    "        slices_widget_sagittal = IntSlider(min=0,\n",
    "                                           max=slice_init_sagittal,\n",
    "                                           value=slice_init_sagittal // 2,\n",
    "                                           description='Sagittal'\n",
    "                                          )\n",
    "        \n",
    "        slice_init_axial = self.slice_nums[case_init]['axial'] - 1        \n",
    "        slices_widget_axial = IntSlider(min=0,\n",
    "                                        max=slice_init_axial,\n",
    "                                        value=slice_init_axial // 2,\n",
    "                                        description='Axial'\n",
    "                                       )\n",
    "        \n",
    "        def update_slices_widget(*args):\n",
    "            slices_widget_coronal.max = self.slice_nums[case_widget.value]['coronal'] - 1\n",
    "            slices_widget_coronal.value = slices_widget_coronal.max // 2\n",
    "            \n",
    "            slices_widget_sagittal.max = self.slice_nums[case_widget.value]['sagittal'] - 1\n",
    "            slices_widget_sagittal.value = slices_widget_sagittal.max // 2\n",
    "            \n",
    "            slices_widget_axial.max = self.slice_nums[case_widget.value]['axial'] - 1\n",
    "            slices_widget_axial.value = slices_widget_axial.max // 2\n",
    "    \n",
    "        \n",
    "        case_widget.observe(update_slices_widget, 'value')\n",
    "        interact(self._plot_slices,\n",
    "                 case=case_widget, \n",
    "                 im_slice_coronal=slices_widget_coronal, \n",
    "                 im_slice_sagittal=slices_widget_sagittal, \n",
    "                 im_slice_axial=slices_widget_axial\n",
    "                )\n",
    "    \n",
    "    def resize(self, figsize): \n",
    "        self.figsize = figsize"
   ]
  },
  {
   "cell_type": "markdown",
   "metadata": {},
   "source": []
  }
 ],
 "metadata": {
  "language_info": {
   "name": "python"
  }
 },
 "nbformat": 4,
 "nbformat_minor": 2
}
